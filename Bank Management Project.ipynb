{
 "cells": [
  {
   "cell_type": "code",
   "execution_count": 1,
   "id": "a6db1842-0d57-4ae7-a7df-481b695e94b2",
   "metadata": {},
   "outputs": [
    {
     "name": "stdout",
     "output_type": "stream",
     "text": [
      "\n",
      "---- Bank Menu ----\n",
      "1. View All Accounts\n",
      "2. Check Account Details\n",
      "3. Deposit Money\n",
      "4. Withdraw Money\n",
      "5. Transfer Money\n",
      "6. Add New Account\n",
      "7. Exit\n"
     ]
    },
    {
     "name": "stdin",
     "output_type": "stream",
     "text": [
      "Enter your choice:  1\n"
     ]
    },
    {
     "name": "stdout",
     "output_type": "stream",
     "text": [
      "      Account No            Name   Balance   Status  Unnamed: 4  Unnamed: 5  \\\n",
      "0           1001  Danielle Palmer    7658.0  Active         NaN         NaN   \n",
      "1           1002      Anna Weaver    5340.0  Active         NaN         NaN   \n",
      "2           1003    Brandon Bates    1092.0  Active         NaN         NaN   \n",
      "3           1004    Kendra Torres    6644.0  Active         NaN         NaN   \n",
      "4           1005     Paige Jordan    6478.0  Active         NaN         NaN   \n",
      "...          ...              ...       ...     ...         ...         ...   \n",
      "998         1999   Cole Gallagher    4265.0  Active         NaN         NaN   \n",
      "999         2000    Dustin Becker    3737.0  Active         NaN         NaN   \n",
      "1000        7788              NaN       NaN  ACTIVE         NaN         NaN   \n",
      "1001        2699              NaN       NaN  ACTIVE         NaN         NaN   \n",
      "1002        3132              NaN       NaN  ACTIVE         NaN         NaN   \n",
      "\n",
      "      Unnamed: 6  Unnamed: 7  Unnamed: 8  Unnamed: 9           Name  Balance  \n",
      "0            NaN         NaN         NaN         NaN            NaN      NaN  \n",
      "1            NaN         NaN         NaN         NaN            NaN      NaN  \n",
      "2            NaN         NaN         NaN         NaN            NaN      NaN  \n",
      "3            NaN         NaN         NaN         NaN            NaN      NaN  \n",
      "4            NaN         NaN         NaN         NaN            NaN      NaN  \n",
      "...          ...         ...         ...         ...            ...      ...  \n",
      "998          NaN         NaN         NaN         NaN            NaN      NaN  \n",
      "999          NaN         NaN         NaN         NaN            NaN      NaN  \n",
      "1000         NaN         NaN         NaN         NaN  Dhruvil Bhatt   2756.0  \n",
      "1001         NaN         NaN         NaN         NaN        farqan    1491.0  \n",
      "1002         NaN         NaN         NaN         NaN           Raj     100.0  \n",
      "\n",
      "[1003 rows x 12 columns]\n",
      "\n",
      "---- Bank Menu ----\n",
      "1. View All Accounts\n",
      "2. Check Account Details\n",
      "3. Deposit Money\n",
      "4. Withdraw Money\n",
      "5. Transfer Money\n",
      "6. Add New Account\n",
      "7. Exit\n"
     ]
    },
    {
     "name": "stdin",
     "output_type": "stream",
     "text": [
      "Enter your choice:  2\n",
      "Enter Account Number:  7788\n"
     ]
    },
    {
     "name": "stdout",
     "output_type": "stream",
     "text": [
      "      Account No Name   Balance   Status  Unnamed: 4  Unnamed: 5  Unnamed: 6  \\\n",
      "1000        7788   NaN       NaN  ACTIVE         NaN         NaN         NaN   \n",
      "\n",
      "      Unnamed: 7  Unnamed: 8  Unnamed: 9           Name  Balance  \n",
      "1000         NaN         NaN         NaN  Dhruvil Bhatt   2756.0  \n",
      "\n",
      "---- Bank Menu ----\n",
      "1. View All Accounts\n",
      "2. Check Account Details\n",
      "3. Deposit Money\n",
      "4. Withdraw Money\n",
      "5. Transfer Money\n",
      "6. Add New Account\n",
      "7. Exit\n"
     ]
    },
    {
     "name": "stdin",
     "output_type": "stream",
     "text": [
      "Enter your choice:  3\n",
      "Enter Account Number:  7788\n",
      "Enter Amount to Deposit:  500\n"
     ]
    },
    {
     "name": "stdout",
     "output_type": "stream",
     "text": [
      "Deposit Successful\n",
      "\n",
      "---- Bank Menu ----\n",
      "1. View All Accounts\n",
      "2. Check Account Details\n",
      "3. Deposit Money\n",
      "4. Withdraw Money\n",
      "5. Transfer Money\n",
      "6. Add New Account\n",
      "7. Exit\n"
     ]
    },
    {
     "name": "stdin",
     "output_type": "stream",
     "text": [
      "Enter your choice:  4\n",
      "Enter Account Number:  7788\n",
      "Enter Amount to Withdraw:  1000\n"
     ]
    },
    {
     "name": "stdout",
     "output_type": "stream",
     "text": [
      "Withdraw Successful\n",
      "\n",
      "---- Bank Menu ----\n",
      "1. View All Accounts\n",
      "2. Check Account Details\n",
      "3. Deposit Money\n",
      "4. Withdraw Money\n",
      "5. Transfer Money\n",
      "6. Add New Account\n",
      "7. Exit\n"
     ]
    },
    {
     "name": "stdin",
     "output_type": "stream",
     "text": [
      "Enter your choice:  5\n",
      "Enter Sender Account No:  00000\n",
      "Enter Receiver Account No:  11111111\n",
      "Enter Amount to Transfer:  -1\n"
     ]
    },
    {
     "name": "stdout",
     "output_type": "stream",
     "text": [
      "Sender or Receiver account not found.\n",
      "\n",
      "---- Bank Menu ----\n",
      "1. View All Accounts\n",
      "2. Check Account Details\n",
      "3. Deposit Money\n",
      "4. Withdraw Money\n",
      "5. Transfer Money\n",
      "6. Add New Account\n",
      "7. Exit\n"
     ]
    },
    {
     "name": "stdin",
     "output_type": "stream",
     "text": [
      "Enter your choice:  6\n",
      "Enter Name:  Raj \n",
      "Enter Amount to Deposit:  10\n"
     ]
    },
    {
     "name": "stdout",
     "output_type": "stream",
     "text": [
      "Account created with number: 8674\n",
      "\n",
      "---- Bank Menu ----\n",
      "1. View All Accounts\n",
      "2. Check Account Details\n",
      "3. Deposit Money\n",
      "4. Withdraw Money\n",
      "5. Transfer Money\n",
      "6. Add New Account\n",
      "7. Exit\n"
     ]
    },
    {
     "name": "stdin",
     "output_type": "stream",
     "text": [
      "Enter your choice:  7\n"
     ]
    },
    {
     "name": "stdout",
     "output_type": "stream",
     "text": [
      "\n",
      "Thank you for using the Bank Management System!\n",
      "Goodbye! 👋\n"
     ]
    }
   ],
   "source": [
    "import pandas as pd\n",
    "import random\n",
    "\n",
    "\n",
    "try:\n",
    "    df=pd.read_csv(\"Account numbers clients- Dhruvil.csv\")\n",
    "except FileNotFoundError:\n",
    "    df = pd.DataFrame(columns=[\"Account No\", \"Name\", \"Balance\", \"Status\"])\n",
    "\n",
    "def save_data():\n",
    "    df.to_csv(\"Account numbers clients- Dhruvil.csv\", index=False)\n",
    "\n",
    "def find_account(acc_no):\n",
    "    return df[df[\"Account No\"] == acc_no]\n",
    "\n",
    "while True: \n",
    "    print(\"\\n---- Bank Menu ----\")\n",
    "    print(\"1. View All Accounts\")\n",
    "    print(\"2. Check Account Details\")\n",
    "    print(\"3. Deposit Money\")\n",
    "    print(\"4. Withdraw Money\")\n",
    "    print(\"5. Transfer Money\")\n",
    "    print(\"6. Add New Account\")\n",
    "    print(\"7. Exit\")\n",
    "    choice = input(\"Enter your choice: \")\n",
    "\n",
    "    if choice == '1':\n",
    "        if df.empty:\n",
    "            print(\"No accounts found.\")\n",
    "        else:\n",
    "            print(df)\n",
    "\n",
    "    elif choice == '2':\n",
    "        try:\n",
    "            acc = int(input(\"Enter Account Number: \"))\n",
    "            account = df[df['Account No'] == acc]\n",
    "            if not account.empty:\n",
    "                print(account)\n",
    "            else:\n",
    "                print(\"Account Not Found\")\n",
    "        except ValueError:\n",
    "            print(\"Invalid input.\")\n",
    "\n",
    "    elif choice == '3':\n",
    "        try:\n",
    "            acc = int(input(\"Enter Account Number: \"))\n",
    "            amt = float(input(\"Enter Amount to Deposit: \"))\n",
    "            index = df[df['Account No'] == acc].index\n",
    "            if not index.empty:\n",
    "                df.at[index[0], 'Balance'] += amt\n",
    "                save_data()\n",
    "                print(\"Deposit Successful\")\n",
    "            else:\n",
    "                print(\"Account Not Found\")\n",
    "        except ValueError:\n",
    "            print(\"Invalid input.\")\n",
    "\n",
    "    elif choice == '4':\n",
    "        try:\n",
    "            acc = int(input(\"Enter Account Number: \"))\n",
    "            amt = float(input(\"Enter Amount to Withdraw: \"))\n",
    "            index = df[df['Account No'] == acc].index\n",
    "            if not index.empty:\n",
    "                if df.at[index[0], 'Balance'] >= amt:\n",
    "                    df.at[index[0], 'Balance'] -= amt\n",
    "                    save_data()\n",
    "                    print(\"Withdraw Successful\")\n",
    "                else:\n",
    "                    print(\"Insufficient Balance\")\n",
    "            else:\n",
    "                print(\"Account Not Found\")\n",
    "        except ValueError:\n",
    "            print(\"Invalid input.\")\n",
    "\n",
    "    elif choice == '5':\n",
    "        try:\n",
    "            from_acc = int(input(\"Enter Sender Account No: \"))\n",
    "            to_acc = int(input(\"Enter Receiver Account No: \"))\n",
    "            amount = float(input(\"Enter Amount to Transfer: \"))\n",
    "            from_index = df[df['Account No'] == from_acc].index\n",
    "            to_index = df[df['Account No'] == to_acc].index\n",
    "\n",
    "            if from_index.empty or to_index.empty:\n",
    "                print(\"Sender or Receiver account not found.\")\n",
    "            elif df.at[from_index[0], 'Balance'] < amount:\n",
    "                print(\"Insufficient Balance in Sender's Account.\")\n",
    "            else:\n",
    "                df.at[from_index[0], 'Balance'] -= amount\n",
    "                df.at[to_index[0], 'Balance'] += amount\n",
    "                save_data()\n",
    "                print(f\"Transferred ₹{amount} from {from_acc} to {to_acc}\")\n",
    "        except ValueError:\n",
    "            print(\"Invalid input.\")\n",
    "\n",
    "    elif choice == '6':\n",
    "        try:\n",
    "            name = input(\"Enter Name: \")\n",
    "            deposit = float(input(\"Enter Amount to Deposit: \"))\n",
    "            acc_no = random.randint(1000, 9999)\n",
    "            while acc_no in df['Account No'].values:\n",
    "                acc_no = random.randint(1000, 9999)\n",
    "            new_account = pd.DataFrame([[acc_no, name, deposit, \"ACTIVE\"]],\n",
    "                                       columns=[\"Account No\", \"Name\", \"Balance\", \"Status\"])\n",
    "            df = pd.concat([df, new_account], ignore_index=True)\n",
    "            save_data()\n",
    "            print(f\"Account created with number: {acc_no}\")\n",
    "        except ValueError:\n",
    "            print(\"Invalid input.\")\n",
    "\n",
    "    elif choice == '7':\n",
    "        print(\"\\nThank you for using the Bank Management System!\")\n",
    "        print(\"Goodbye! 👋\")\n",
    "        break\n",
    "\n",
    "    else:\n",
    "        print(\"Invalid choice. Please try again.\")\n"
   ]
  },
  {
   "cell_type": "code",
   "execution_count": null,
   "id": "84d9a188-3cf9-4f7b-b46c-37fc5ba346ba",
   "metadata": {},
   "outputs": [],
   "source": []
  }
 ],
 "metadata": {
  "kernelspec": {
   "display_name": "Python 3 (ipykernel)",
   "language": "python",
   "name": "python3"
  },
  "language_info": {
   "codemirror_mode": {
    "name": "ipython",
    "version": 3
   },
   "file_extension": ".py",
   "mimetype": "text/x-python",
   "name": "python",
   "nbconvert_exporter": "python",
   "pygments_lexer": "ipython3",
   "version": "3.11.7"
  }
 },
 "nbformat": 4,
 "nbformat_minor": 5
}
